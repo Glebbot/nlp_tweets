{
 "cells": [
  {
   "cell_type": "code",
   "execution_count": 31,
   "id": "initial_id",
   "metadata": {
    "collapsed": true,
    "ExecuteTime": {
     "end_time": "2024-01-04T22:01:36.328562300Z",
     "start_time": "2024-01-04T22:01:36.191506300Z"
    }
   },
   "outputs": [],
   "source": [
    "import numpy as np\n",
    "import pandas as pd\n",
    "import matplotlib.pyplot as plt\n",
    "from sklearn.metrics import precision_score, recall_score, accuracy_score, roc_auc_score, f1_score\n",
    "from sklearn.model_selection import train_test_split, GridSearchCV\n",
    "from sklearn.preprocessing import LabelEncoder\n",
    "import nltk\n",
    "from sklearn.feature_extraction.text import TfidfVectorizer\n",
    "from sklearn.linear_model import LogisticRegression\n",
    "#nltk.download('wordnet')"
   ]
  },
  {
   "cell_type": "code",
   "execution_count": 32,
   "outputs": [
    {
     "data": {
      "text/plain": "   id keyword location                                               text  \\\n0   1     NaN      NaN  Our Deeds are the Reason of this #earthquake M...   \n1   4     NaN      NaN             Forest fire near La Ronge Sask. Canada   \n2   5     NaN      NaN  All residents asked to 'shelter in place' are ...   \n3   6     NaN      NaN  13,000 people receive #wildfires evacuation or...   \n4   7     NaN      NaN  Just got sent this photo from Ruby #Alaska as ...   \n\n   target  \n0       1  \n1       1  \n2       1  \n3       1  \n4       1  ",
      "text/html": "<div>\n<style scoped>\n    .dataframe tbody tr th:only-of-type {\n        vertical-align: middle;\n    }\n\n    .dataframe tbody tr th {\n        vertical-align: top;\n    }\n\n    .dataframe thead th {\n        text-align: right;\n    }\n</style>\n<table border=\"1\" class=\"dataframe\">\n  <thead>\n    <tr style=\"text-align: right;\">\n      <th></th>\n      <th>id</th>\n      <th>keyword</th>\n      <th>location</th>\n      <th>text</th>\n      <th>target</th>\n    </tr>\n  </thead>\n  <tbody>\n    <tr>\n      <th>0</th>\n      <td>1</td>\n      <td>NaN</td>\n      <td>NaN</td>\n      <td>Our Deeds are the Reason of this #earthquake M...</td>\n      <td>1</td>\n    </tr>\n    <tr>\n      <th>1</th>\n      <td>4</td>\n      <td>NaN</td>\n      <td>NaN</td>\n      <td>Forest fire near La Ronge Sask. Canada</td>\n      <td>1</td>\n    </tr>\n    <tr>\n      <th>2</th>\n      <td>5</td>\n      <td>NaN</td>\n      <td>NaN</td>\n      <td>All residents asked to 'shelter in place' are ...</td>\n      <td>1</td>\n    </tr>\n    <tr>\n      <th>3</th>\n      <td>6</td>\n      <td>NaN</td>\n      <td>NaN</td>\n      <td>13,000 people receive #wildfires evacuation or...</td>\n      <td>1</td>\n    </tr>\n    <tr>\n      <th>4</th>\n      <td>7</td>\n      <td>NaN</td>\n      <td>NaN</td>\n      <td>Just got sent this photo from Ruby #Alaska as ...</td>\n      <td>1</td>\n    </tr>\n  </tbody>\n</table>\n</div>"
     },
     "execution_count": 32,
     "metadata": {},
     "output_type": "execute_result"
    }
   ],
   "source": [
    "df = pd.read_csv('train.csv')\n",
    "df.head()"
   ],
   "metadata": {
    "collapsed": false,
    "ExecuteTime": {
     "end_time": "2024-01-04T22:01:36.433560700Z",
     "start_time": "2024-01-04T22:01:36.196517Z"
    }
   },
   "id": "6d70d854a226d2be"
  },
  {
   "cell_type": "code",
   "execution_count": 33,
   "outputs": [
    {
     "data": {
      "text/plain": "id             0\nkeyword       61\nlocation    2533\ntext           0\ntarget         0\ndtype: int64"
     },
     "execution_count": 33,
     "metadata": {},
     "output_type": "execute_result"
    }
   ],
   "source": [
    "df.isnull().sum()"
   ],
   "metadata": {
    "collapsed": false,
    "ExecuteTime": {
     "end_time": "2024-01-04T22:01:36.433560700Z",
     "start_time": "2024-01-04T22:01:36.271398800Z"
    }
   },
   "id": "21831cdf5ea5a574"
  },
  {
   "cell_type": "code",
   "execution_count": 34,
   "outputs": [
    {
     "data": {
      "text/plain": "(7613, 5)"
     },
     "execution_count": 34,
     "metadata": {},
     "output_type": "execute_result"
    }
   ],
   "source": [
    "df.shape"
   ],
   "metadata": {
    "collapsed": false,
    "ExecuteTime": {
     "end_time": "2024-01-04T22:01:36.434560600Z",
     "start_time": "2024-01-04T22:01:36.287144800Z"
    }
   },
   "id": "3072f3d70a92a855"
  },
  {
   "cell_type": "code",
   "execution_count": 35,
   "outputs": [
    {
     "data": {
      "text/plain": "target\n0    4342\n1    3271\ndtype: int64"
     },
     "execution_count": 35,
     "metadata": {},
     "output_type": "execute_result"
    }
   ],
   "source": [
    "df.groupby('target').size()"
   ],
   "metadata": {
    "collapsed": false,
    "ExecuteTime": {
     "end_time": "2024-01-04T22:01:36.434560600Z",
     "start_time": "2024-01-04T22:01:36.297030900Z"
    }
   },
   "id": "53eacb7ca9291611"
  },
  {
   "cell_type": "code",
   "execution_count": 36,
   "outputs": [],
   "source": [
    "dataset = df.copy()"
   ],
   "metadata": {
    "collapsed": false,
    "ExecuteTime": {
     "end_time": "2024-01-04T22:01:36.467560100Z",
     "start_time": "2024-01-04T22:01:36.306809100Z"
    }
   },
   "id": "998e14e4b3bf24f9"
  },
  {
   "cell_type": "code",
   "execution_count": 37,
   "outputs": [],
   "source": [
    "def notnull_binarization(df,key):\n",
    "    df[key] = df[key].notnull().astype(int)\n",
    "    return df\n",
    "\n",
    "def binar_hist(df, key):\n",
    "    binarized_df = notnull_binarization(df, key)\n",
    "    filtered_df = binarized_df[binarized_df['target'] == 1]\n",
    "    grouped_df = filtered_df.groupby(key).size()\n",
    "    \n",
    "    grouped_df.plot(kind='bar')\n",
    "    plt.xlabel(key)\n",
    "    plt.ylabel('Count')\n",
    "    plt.show()"
   ],
   "metadata": {
    "collapsed": false,
    "ExecuteTime": {
     "end_time": "2024-01-04T22:01:36.467560100Z",
     "start_time": "2024-01-04T22:01:36.319514500Z"
    }
   },
   "id": "45ee67bea8875679"
  },
  {
   "cell_type": "code",
   "execution_count": 38,
   "outputs": [
    {
     "data": {
      "text/plain": "<Figure size 640x480 with 1 Axes>",
      "image/png": "[encoded data removed]"
     },
     "metadata": {},
     "output_type": "display_data"
    }
   ],
   "source": [
    "binar_hist(dataset, 'keyword')"
   ],
   "metadata": {
    "collapsed": false,
    "ExecuteTime": {
     "end_time": "2024-01-04T22:01:36.736592800Z",
     "start_time": "2024-01-04T22:01:36.328562300Z"
    }
   },
   "id": "fde2b470b02007e9"
  },
  {
   "cell_type": "code",
   "execution_count": 39,
   "outputs": [
    {
     "data": {
      "text/plain": "<Figure size 640x480 with 1 Axes>",
      "image/png": "[encoded data removed]"
     },
     "metadata": {},
     "output_type": "display_data"
    }
   ],
   "source": [
    "binar_hist(dataset, 'location')"
   ],
   "metadata": {
    "collapsed": false,
    "ExecuteTime": {
     "end_time": "2024-01-04T22:01:36.857384900Z",
     "start_time": "2024-01-04T22:01:36.632568400Z"
    }
   },
   "id": "fe1fb574cf4e4f23"
  },
  {
   "cell_type": "code",
   "execution_count": 40,
   "outputs": [],
   "source": [
    "def preprocess_categorial(df):\n",
    "    df.drop(['id'], axis=1, inplace=True)\n",
    "    df['keyword'] = df['keyword'].fillna(\"None\")\n",
    "    df['location'] = df['location'].fillna(\"None\")\n",
    "    label = LabelEncoder()\n",
    "    label.fit(df['keyword'])\n",
    "    df['keyword']=label.transform(df['keyword'])\n",
    "    label.fit(df['location'])\n",
    "    df['location']=label.transform(df['location'])\n",
    "    \n",
    "def preprocess_binar(df):\n",
    "    df = notnull_binarization(df, \"keyword\")\n",
    "    df = notnull_binarization(df, \"location\")\n",
    "    df.drop(['id'], axis=1, inplace=True)\n",
    "    \n",
    "def preprocess_mixed(df):\n",
    "    df = notnull_binarization(df, \"location\")\n",
    "    df.drop(['id'], axis=1, inplace=True)\n",
    "    df['keyword'] = df['keyword'].fillna(\"None\")\n",
    "    label = LabelEncoder()\n",
    "    label.fit(df['keyword'])\n",
    "    df['keyword']=label.transform(df['keyword'])"
   ],
   "metadata": {
    "collapsed": false,
    "ExecuteTime": {
     "end_time": "2024-01-04T22:01:36.858399Z",
     "start_time": "2024-01-04T22:01:36.818379700Z"
    }
   },
   "id": "2815de80109fccc0"
  },
  {
   "cell_type": "code",
   "execution_count": 41,
   "outputs": [
    {
     "data": {
      "text/plain": "   keyword  location                                               text\n0        0         0  Our Deeds are the Reason of this #earthquake M...\n1        0         0             Forest fire near La Ronge Sask. Canada\n2        0         0  All residents asked to 'shelter in place' are ...\n3        0         0  13,000 people receive #wildfires evacuation or...\n4        0         0  Just got sent this photo from Ruby #Alaska as ...",
      "text/html": "<div>\n<style scoped>\n    .dataframe tbody tr th:only-of-type {\n        vertical-align: middle;\n    }\n\n    .dataframe tbody tr th {\n        vertical-align: top;\n    }\n\n    .dataframe thead th {\n        text-align: right;\n    }\n</style>\n<table border=\"1\" class=\"dataframe\">\n  <thead>\n    <tr style=\"text-align: right;\">\n      <th></th>\n      <th>keyword</th>\n      <th>location</th>\n      <th>text</th>\n    </tr>\n  </thead>\n  <tbody>\n    <tr>\n      <th>0</th>\n      <td>0</td>\n      <td>0</td>\n      <td>Our Deeds are the Reason of this #earthquake M...</td>\n    </tr>\n    <tr>\n      <th>1</th>\n      <td>0</td>\n      <td>0</td>\n      <td>Forest fire near La Ronge Sask. Canada</td>\n    </tr>\n    <tr>\n      <th>2</th>\n      <td>0</td>\n      <td>0</td>\n      <td>All residents asked to 'shelter in place' are ...</td>\n    </tr>\n    <tr>\n      <th>3</th>\n      <td>0</td>\n      <td>0</td>\n      <td>13,000 people receive #wildfires evacuation or...</td>\n    </tr>\n    <tr>\n      <th>4</th>\n      <td>0</td>\n      <td>0</td>\n      <td>Just got sent this photo from Ruby #Alaska as ...</td>\n    </tr>\n  </tbody>\n</table>\n</div>"
     },
     "execution_count": 41,
     "metadata": {},
     "output_type": "execute_result"
    }
   ],
   "source": [
    "#preprocess_categorial(df)\n",
    "preprocess_binar(df)\n",
    "#preprocess_mixed(df)\n",
    "target = df['target']\n",
    "df.drop(['target'], axis=1, inplace=True)\n",
    "df.head()"
   ],
   "metadata": {
    "collapsed": false,
    "ExecuteTime": {
     "end_time": "2024-01-04T22:01:36.860004200Z",
     "start_time": "2024-01-04T22:01:36.831439300Z"
    }
   },
   "id": "36fe34f29fe3280e"
  },
  {
   "cell_type": "code",
   "execution_count": 42,
   "outputs": [],
   "source": [
    "def tokenize_row(row):\n",
    "    tokenizer = nltk.tokenize.TreebankWordTokenizer()\n",
    "    return tokenizer.tokenize(row)\n",
    "\n",
    "def stem_row(row):\n",
    "    stemmer = nltk.stem.WordNetLemmatizer()\n",
    "    tokens = []\n",
    "    for token in row:\n",
    "        tokens.append(stemmer.lemmatize(str(token).lower()))\n",
    "    return tokens\n",
    "\n",
    "def text_vectorization(df):\n",
    "    df['text']=df['text'].apply(tokenize_row)\n",
    "    df['text']=df['text'].apply(stem_row)\n",
    "    tfidf = TfidfVectorizer(min_df=2, max_df=0.5, ngram_range=(1,2))\n",
    "    features = tfidf.fit_transform([' '.join(row) for row in df['text']])\n",
    "    features_df = pd.DataFrame(features.todense(), columns=tfidf.get_feature_names_out())\n",
    "    df.drop(['text'], axis=1, inplace=True)\n",
    "    df_merged = pd.concat([df, features_df], axis=1)\n",
    "    return df_merged"
   ],
   "metadata": {
    "collapsed": false,
    "ExecuteTime": {
     "end_time": "2024-01-04T22:01:36.884069200Z",
     "start_time": "2024-01-04T22:01:36.853882700Z"
    }
   },
   "id": "e51d27cd10c4ca65"
  },
  {
   "cell_type": "code",
   "execution_count": 43,
   "outputs": [],
   "source": [
    "df = text_vectorization(df)\n",
    "#df.drop(['text'], axis=1, inplace=True)"
   ],
   "metadata": {
    "collapsed": false,
    "ExecuteTime": {
     "end_time": "2024-01-04T22:01:41.613903300Z",
     "start_time": "2024-01-04T22:01:36.871740400Z"
    }
   },
   "id": "399c0a700f5364c7"
  },
  {
   "cell_type": "code",
   "execution_count": 44,
   "outputs": [
    {
     "data": {
      "text/plain": "(7613, 17530)"
     },
     "execution_count": 44,
     "metadata": {},
     "output_type": "execute_result"
    }
   ],
   "source": [
    "df.shape"
   ],
   "metadata": {
    "collapsed": false,
    "ExecuteTime": {
     "end_time": "2024-01-04T22:01:41.634523900Z",
     "start_time": "2024-01-04T22:01:41.615905400Z"
    }
   },
   "id": "7ba790e38712ab1"
  },
  {
   "cell_type": "code",
   "execution_count": 45,
   "outputs": [],
   "source": [
    "X_train, X_test, y_train, y_test = train_test_split(df, target, test_size=0.2, random_state=42)"
   ],
   "metadata": {
    "collapsed": false,
    "ExecuteTime": {
     "end_time": "2024-01-04T22:01:43.024900200Z",
     "start_time": "2024-01-04T22:01:41.634523900Z"
    }
   },
   "id": "20cb799f98f0dcab"
  },
  {
   "cell_type": "code",
   "execution_count": 46,
   "outputs": [],
   "source": [
    "model = LogisticRegression(random_state=0)"
   ],
   "metadata": {
    "collapsed": false,
    "ExecuteTime": {
     "end_time": "2024-01-04T22:01:43.041828700Z",
     "start_time": "2024-01-04T22:01:43.024900200Z"
    }
   },
   "id": "37c935c8b1ae545a"
  },
  {
   "cell_type": "code",
   "execution_count": 47,
   "outputs": [
    {
     "data": {
      "text/plain": "LogisticRegression(C=10, max_iter=300, random_state=0)",
      "text/html": "<style>#sk-container-id-3 {color: black;}#sk-container-id-3 pre{padding: 0;}#sk-container-id-3 div.sk-toggleable {background-color: white;}#sk-container-id-3 label.sk-toggleable__label {cursor: pointer;display: block;width: 100%;margin-bottom: 0;padding: 0.3em;box-sizing: border-box;text-align: center;}#sk-container-id-3 label.sk-toggleable__label-arrow:before {content: \"▸\";float: left;margin-right: 0.25em;color: #696969;}#sk-container-id-3 label.sk-toggleable__label-arrow:hover:before {color: black;}#sk-container-id-3 div.sk-estimator:hover label.sk-toggleable__label-arrow:before {color: black;}#sk-container-id-3 div.sk-toggleable__content {max-height: 0;max-width: 0;overflow: hidden;text-align: left;background-color: #f0f8ff;}#sk-container-id-3 div.sk-toggleable__content pre {margin: 0.2em;color: black;border-radius: 0.25em;background-color: #f0f8ff;}#sk-container-id-3 input.sk-toggleable__control:checked~div.sk-toggleable__content {max-height: 200px;max-width: 100%;overflow: auto;}#sk-container-id-3 input.sk-toggleable__control:checked~label.sk-toggleable__label-arrow:before {content: \"▾\";}#sk-container-id-3 div.sk-estimator input.sk-toggleable__control:checked~label.sk-toggleable__label {background-color: #d4ebff;}#sk-container-id-3 div.sk-label input.sk-toggleable__control:checked~label.sk-toggleable__label {background-color: #d4ebff;}#sk-container-id-3 input.sk-hidden--visually {border: 0;clip: rect(1px 1px 1px 1px);clip: rect(1px, 1px, 1px, 1px);height: 1px;margin: -1px;overflow: hidden;padding: 0;position: absolute;width: 1px;}#sk-container-id-3 div.sk-estimator {font-family: monospace;background-color: #f0f8ff;border: 1px dotted black;border-radius: 0.25em;box-sizing: border-box;margin-bottom: 0.5em;}#sk-container-id-3 div.sk-estimator:hover {background-color: #d4ebff;}#sk-container-id-3 div.sk-parallel-item::after {content: \"\";width: 100%;border-bottom: 1px solid gray;flex-grow: 1;}#sk-container-id-3 div.sk-label:hover label.sk-toggleable__label {background-color: #d4ebff;}#sk-container-id-3 div.sk-serial::before {content: \"\";position: absolute;border-left: 1px solid gray;box-sizing: border-box;top: 0;bottom: 0;left: 50%;z-index: 0;}#sk-container-id-3 div.sk-serial {display: flex;flex-direction: column;align-items: center;background-color: white;padding-right: 0.2em;padding-left: 0.2em;position: relative;}#sk-container-id-3 div.sk-item {position: relative;z-index: 1;}#sk-container-id-3 div.sk-parallel {display: flex;align-items: stretch;justify-content: center;background-color: white;position: relative;}#sk-container-id-3 div.sk-item::before, #sk-container-id-3 div.sk-parallel-item::before {content: \"\";position: absolute;border-left: 1px solid gray;box-sizing: border-box;top: 0;bottom: 0;left: 50%;z-index: -1;}#sk-container-id-3 div.sk-parallel-item {display: flex;flex-direction: column;z-index: 1;position: relative;background-color: white;}#sk-container-id-3 div.sk-parallel-item:first-child::after {align-self: flex-end;width: 50%;}#sk-container-id-3 div.sk-parallel-item:last-child::after {align-self: flex-start;width: 50%;}#sk-container-id-3 div.sk-parallel-item:only-child::after {width: 0;}#sk-container-id-3 div.sk-dashed-wrapped {border: 1px dashed gray;margin: 0 0.4em 0.5em 0.4em;box-sizing: border-box;padding-bottom: 0.4em;background-color: white;}#sk-container-id-3 div.sk-label label {font-family: monospace;font-weight: bold;display: inline-block;line-height: 1.2em;}#sk-container-id-3 div.sk-label-container {text-align: center;}#sk-container-id-3 div.sk-container {/* jupyter's `normalize.less` sets `[hidden] { display: none; }` but bootstrap.min.css set `[hidden] { display: none !important; }` so we also need the `!important` here to be able to override the default hidden behavior on the sphinx rendered scikit-learn.org. See: https://github.com/scikit-learn/scikit-learn/issues/21755 */display: inline-block !important;position: relative;}#sk-container-id-3 div.sk-text-repr-fallback {display: none;}</style><div id=\"sk-container-id-3\" class=\"sk-top-container\"><div class=\"sk-text-repr-fallback\"><pre>LogisticRegression(C=10, max_iter=300, random_state=0)</pre><b>In a Jupyter environment, please rerun this cell to show the HTML representation or trust the notebook. <br />On GitHub, the HTML representation is unable to render, please try loading this page with nbviewer.org.</b></div><div class=\"sk-container\" hidden><div class=\"sk-item\"><div class=\"sk-estimator sk-toggleable\"><input class=\"sk-toggleable__control sk-hidden--visually\" id=\"sk-estimator-id-5\" type=\"checkbox\" checked><label for=\"sk-estimator-id-5\" class=\"sk-toggleable__label sk-toggleable__label-arrow\">LogisticRegression</label><div class=\"sk-toggleable__content\"><pre>LogisticRegression(C=10, max_iter=300, random_state=0)</pre></div></div></div></div></div>"
     },
     "execution_count": 47,
     "metadata": {},
     "output_type": "execute_result"
    }
   ],
   "source": [
    "model.fit(X_train, y_train)"
   ],
   "metadata": {
    "collapsed": false,
    "ExecuteTime": {
     "end_time": "2024-01-04T22:02:04.394597900Z",
     "start_time": "2024-01-04T22:01:43.034484800Z"
    }
   },
   "id": "daf8d7e00eadfae8"
  },
  {
   "cell_type": "code",
   "execution_count": 48,
   "outputs": [
    {
     "data": {
      "text/plain": "array([0, 0, 1, ..., 1, 1, 1], dtype=int64)"
     },
     "execution_count": 48,
     "metadata": {},
     "output_type": "execute_result"
    }
   ],
   "source": [
    "prediction = model.predict(X_test)\n",
    "prediction"
   ],
   "metadata": {
    "collapsed": false,
    "ExecuteTime": {
     "end_time": "2024-01-04T22:02:04.672801Z",
     "start_time": "2024-01-04T22:02:04.385599900Z"
    }
   },
   "id": "eb221ae6b949f18b"
  },
  {
   "cell_type": "code",
   "execution_count": 49,
   "outputs": [
    {
     "data": {
      "text/plain": "2644    1\n2227    0\n5448    1\n132     0\n6845    0\n       ..\n1835    0\n506     1\n3592    1\n6740    1\n1634    0\nName: target, Length: 1523, dtype: int64"
     },
     "execution_count": 49,
     "metadata": {},
     "output_type": "execute_result"
    }
   ],
   "source": [
    "y_test"
   ],
   "metadata": {
    "collapsed": false,
    "ExecuteTime": {
     "end_time": "2024-01-04T22:02:04.673806Z",
     "start_time": "2024-01-04T22:02:04.662442400Z"
    }
   },
   "id": "98cccbafc0228b06"
  },
  {
   "cell_type": "code",
   "execution_count": 50,
   "outputs": [
    {
     "name": "stdout",
     "output_type": "stream",
     "text": [
      "Precision score: 0.7986348122866894\n"
     ]
    }
   ],
   "source": [
    "score = precision_score(y_true=y_test, y_pred=prediction)\n",
    "#Сколько правильных положительных из всех предсказанных положительных\n",
    "print(\"Precision score:\", score)"
   ],
   "metadata": {
    "collapsed": false,
    "ExecuteTime": {
     "end_time": "2024-01-04T22:02:04.688718600Z",
     "start_time": "2024-01-04T22:02:04.676798500Z"
    }
   },
   "id": "783ed35ee358d9bc"
  },
  {
   "cell_type": "code",
   "execution_count": 51,
   "outputs": [
    {
     "name": "stdout",
     "output_type": "stream",
     "text": [
      "Recall score: 0.7211093990755008\n"
     ]
    }
   ],
   "source": [
    "r_score = recall_score(y_true=y_test, y_pred=prediction)\n",
    "#Сколько правильно предсказанных положительных из всех реальных положительных\n",
    "print(\"Recall score:\",r_score)"
   ],
   "metadata": {
    "collapsed": false,
    "ExecuteTime": {
     "end_time": "2024-01-04T22:02:04.736262100Z",
     "start_time": "2024-01-04T22:02:04.686721300Z"
    }
   },
   "id": "a7b0f65619443441"
  },
  {
   "cell_type": "code",
   "execution_count": 52,
   "outputs": [
    {
     "name": "stdout",
     "output_type": "stream",
     "text": [
      "Accuracy score: 0.8036769533814839\n"
     ]
    }
   ],
   "source": [
    "a_score = accuracy_score(y_true=y_test, y_pred=prediction)\n",
    "#Сколько правильно предсказанных от общего колличества\n",
    "print(\"Accuracy score:\",a_score)"
   ],
   "metadata": {
    "collapsed": false,
    "ExecuteTime": {
     "end_time": "2024-01-04T22:02:04.738263500Z",
     "start_time": "2024-01-04T22:02:04.702183800Z"
    }
   },
   "id": "1a3409f74cca18d2"
  },
  {
   "cell_type": "code",
   "execution_count": 53,
   "outputs": [
    {
     "name": "stdout",
     "output_type": "stream",
     "text": [
      "ROC-AUC score: 0.7930489787139517\n"
     ]
    }
   ],
   "source": [
    "ra_score = roc_auc_score(y_true=y_test, y_score=prediction)\n",
    "print(\"ROC-AUC score:\",ra_score)"
   ],
   "metadata": {
    "collapsed": false,
    "ExecuteTime": {
     "end_time": "2024-01-04T22:02:04.739267300Z",
     "start_time": "2024-01-04T22:02:04.714951600Z"
    }
   },
   "id": "4a72d1efbf56dac4"
  },
  {
   "cell_type": "code",
   "execution_count": 54,
   "outputs": [
    {
     "name": "stdout",
     "output_type": "stream",
     "text": [
      "F1 score: 0.7578947368421053\n"
     ]
    }
   ],
   "source": [
    "f_score = f1_score(y_true=y_test, y_pred=prediction)\n",
    "print(\"F1 score:\",f_score)"
   ],
   "metadata": {
    "collapsed": false,
    "ExecuteTime": {
     "end_time": "2024-01-04T22:02:04.759958700Z",
     "start_time": "2024-01-04T22:02:04.729273Z"
    }
   },
   "id": "307c6c810bfc2a1e"
  },
  {
   "cell_type": "code",
   "execution_count": 55,
   "outputs": [],
   "source": [
    "hyperparameters = {\n",
    "    'C': [0.1, 1, 10],\n",
    "    'penalty': ['l1', 'l2'], \n",
    "    'solver': ['liblinear', 'saga']  \n",
    "}\n",
    "grid_search = GridSearchCV(\n",
    "    estimator=model,\n",
    "    param_grid=hyperparameters,\n",
    "    scoring='f1',  # метрика оценки качества модели\n",
    "    cv=2,\n",
    "    verbose=4\n",
    ")"
   ],
   "metadata": {
    "collapsed": false,
    "ExecuteTime": {
     "end_time": "2024-01-04T22:02:04.826868300Z",
     "start_time": "2024-01-04T22:02:04.748954100Z"
    }
   },
   "id": "e2b4ed87a1239fd7"
  },
  {
   "cell_type": "code",
   "execution_count": 56,
   "outputs": [],
   "source": [
    "#grid_search.fit(X_train, y_train)"
   ],
   "metadata": {
    "collapsed": false,
    "ExecuteTime": {
     "end_time": "2024-01-04T22:02:04.827872300Z",
     "start_time": "2024-01-04T22:02:04.762961700Z"
    }
   },
   "id": "4f4c5527d4c72c9e"
  },
  {
   "cell_type": "code",
   "execution_count": 57,
   "outputs": [],
   "source": [
    "#print('Лучшие гиперпараметры: ', grid_search.best_params_)\n",
    "#print('Лучшая точность: ', grid_search.best_score_)"
   ],
   "metadata": {
    "collapsed": false,
    "ExecuteTime": {
     "end_time": "2024-01-04T22:02:04.840703600Z",
     "start_time": "2024-01-04T22:02:04.774765800Z"
    }
   },
   "id": "827b5f3047417ee4"
  },
  {
   "cell_type": "code",
   "execution_count": 57,
   "outputs": [],
   "source": [],
   "metadata": {
    "collapsed": false,
    "ExecuteTime": {
     "end_time": "2024-01-04T22:02:04.841702Z",
     "start_time": "2024-01-04T22:02:04.781907900Z"
    }
   },
   "id": "c0608c4ab26e60f4"
  }
 ],
 "metadata": {
  "kernelspec": {
   "display_name": "Python 3",
   "language": "python",
   "name": "python3"
  },
  "language_info": {
   "codemirror_mode": {
    "name": "ipython",
    "version": 2
   },
   "file_extension": ".py",
   "mimetype": "text/x-python",
   "name": "python",
   "nbconvert_exporter": "python",
   "pygments_lexer": "ipython2",
   "version": "2.7.6"
  }
 },
 "nbformat": 4,
 "nbformat_minor": 5
}
